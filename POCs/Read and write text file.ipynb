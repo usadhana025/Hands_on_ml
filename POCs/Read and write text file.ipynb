{
    "nbformat_minor": 1, 
    "cells": [
        {
            "source": "with open(\"example.txt\",\"w\") as file:\n    file.write(\"Hello world\")", 
            "cell_type": "code", 
            "metadata": {}, 
            "outputs": [], 
            "execution_count": 19
        }, 
        {
            "source": "!ls", 
            "cell_type": "code", 
            "metadata": {}, 
            "outputs": [
                {
                    "output_type": "stream", 
                    "name": "stdout", 
                    "text": "example.txt\r\n"
                }
            ], 
            "execution_count": 20
        }, 
        {
            "source": "with open(\"example.txt\",\"a\") as file:\n    file.write(\"\\n We are creating our first file\")", 
            "cell_type": "code", 
            "metadata": {}, 
            "outputs": [], 
            "execution_count": 21
        }, 
        {
            "source": "with open(\"example.txt\",\"r\") as file:\n   print(file.read())", 
            "cell_type": "code", 
            "metadata": {}, 
            "outputs": [
                {
                    "output_type": "stream", 
                    "name": "stdout", 
                    "text": "Hello world\n We are creating our first file\n"
                }
            ], 
            "execution_count": 22
        }, 
        {
            "source": "with open(\"example.txt\",\"r\") as file:\n    print(file.readline())\n    print(file.readline())", 
            "cell_type": "code", 
            "metadata": {}, 
            "outputs": [
                {
                    "output_type": "stream", 
                    "name": "stdout", 
                    "text": "Hello world\n\n We are creating our first file\n"
                }
            ], 
            "execution_count": 26
        }, 
        {
            "source": "with open(\"example.txt\",\"r\") as file:\n    print(file.read(3))\n    print(file.read(3))\n  ", 
            "cell_type": "code", 
            "metadata": {}, 
            "outputs": [
                {
                    "output_type": "stream", 
                    "name": "stdout", 
                    "text": "Hel\nlo \n"
                }
            ], 
            "execution_count": 31
        }, 
        {
            "source": "with open(\"example.txt\",\"r\") as file:\n    print(file.read(10000))", 
            "cell_type": "code", 
            "metadata": {}, 
            "outputs": [
                {
                    "output_type": "stream", 
                    "name": "stdout", 
                    "text": "Hello world\n We are creating our first file\n"
                }
            ], 
            "execution_count": 32
        }, 
        {
            "source": "seq=[\"Name:Sadhana Upadhyay\",\"\\nDesignation:System Engineer\",\"\\nAge:25\",\"\\nDOB:25th July,1994\",\"\\nRelationship Status:Complicated\"]\nwith open(\"Example1.txt\",\"w\") as file:\n    for line in seq:\n        file.write(line)", 
            "cell_type": "code", 
            "metadata": {}, 
            "outputs": [], 
            "execution_count": 52
        }, 
        {
            "source": "with open(\"Example1.txt\",\"r\") as file:\n    print(file.read())", 
            "cell_type": "code", 
            "metadata": {}, 
            "outputs": [
                {
                    "output_type": "stream", 
                    "name": "stdout", 
                    "text": "Name:Sadhana Upadhyay\nDesignation:System Engineer\nAge:25\nDOB:25th July,1994\nRelationship Status:Complicated\n"
                }
            ], 
            "execution_count": 53
        }, 
        {
            "source": "seq=[\"\\nName:Vinayak Rai\",\"\\nDesignation:System Engineer\",\"\\nAge:25\",\"\\nDOB:9th July,1994\",\"\\nRelationship Status:Multiple\"]\nwith open(\"Example1.txt\",\"a\") as file:\n   file.writelines(seq)", 
            "cell_type": "code", 
            "metadata": {}, 
            "outputs": [], 
            "execution_count": 54
        }, 
        {
            "source": "with open(\"Example1.txt\",\"r\") as file:\n    print(file.read())", 
            "cell_type": "code", 
            "metadata": {}, 
            "outputs": [
                {
                    "output_type": "stream", 
                    "name": "stdout", 
                    "text": "Name:Sadhana Upadhyay\nDesignation:System Engineer\nAge:25\nDOB:25th July,1994\nRelationship Status:Complicated\nName:Vinayak Rai\nDesignation:System Engineer\nAge:25\nDOB:9th July,1994\nRelationship Status:Multiple\n"
                }
            ], 
            "execution_count": 55
        }, 
        {
            "source": "with open(\"Example1.txt\",\"r\") as file:\n    print(file.readlines())", 
            "cell_type": "code", 
            "metadata": {}, 
            "outputs": [
                {
                    "output_type": "stream", 
                    "name": "stdout", 
                    "text": "['Name:Sadhana Upadhyay\\n', 'Designation:System Engineer\\n', 'Age:25\\n', 'DOB:25th July,1994\\n', 'Relationship Status:Complicated\\n', 'Name:Vinayak Rai\\n', 'Designation:System Engineer\\n', 'Age:25\\n', 'DOB:9th July,1994\\n', 'Relationship Status:Multiple']\n"
                }
            ], 
            "execution_count": 56
        }, 
        {
            "source": "seq=[\"Vinayak,\",\"Rai\",\"\\n\",\"Sadhana,\",\"Upadhyay\"]\nwith open(\"Example2.csv\",\"a\") as file:\n   file.writelines(seq)", 
            "cell_type": "code", 
            "metadata": {}, 
            "outputs": [], 
            "execution_count": 58
        }, 
        {
            "source": "with open(\"Example2.csv\",\"r\") as file:\n    print(file.read())", 
            "cell_type": "code", 
            "metadata": {}, 
            "outputs": [
                {
                    "output_type": "stream", 
                    "name": "stdout", 
                    "text": "Vinayak,Rai\nSadhana,Upadhyay\n"
                }
            ], 
            "execution_count": 60
        }, 
        {
            "source": "import pandas as pd\n", 
            "cell_type": "code", 
            "metadata": {}, 
            "outputs": [], 
            "execution_count": 61
        }, 
        {
            "source": "df=pd.read_csv(\"Example2.csv\",names=['Name','Surname'],header=None)\ndf", 
            "cell_type": "code", 
            "metadata": {}, 
            "outputs": [
                {
                    "output_type": "execute_result", 
                    "data": {
                        "text/plain": "      Name   Surname\n0  Vinayak       Rai\n1  Sadhana  Upadhyay", 
                        "text/html": "<div>\n<style scoped>\n    .dataframe tbody tr th:only-of-type {\n        vertical-align: middle;\n    }\n\n    .dataframe tbody tr th {\n        vertical-align: top;\n    }\n\n    .dataframe thead th {\n        text-align: right;\n    }\n</style>\n<table border=\"1\" class=\"dataframe\">\n  <thead>\n    <tr style=\"text-align: right;\">\n      <th></th>\n      <th>Name</th>\n      <th>Surname</th>\n    </tr>\n  </thead>\n  <tbody>\n    <tr>\n      <th>0</th>\n      <td>Vinayak</td>\n      <td>Rai</td>\n    </tr>\n    <tr>\n      <th>1</th>\n      <td>Sadhana</td>\n      <td>Upadhyay</td>\n    </tr>\n  </tbody>\n</table>\n</div>"
                    }, 
                    "execution_count": 67, 
                    "metadata": {}
                }
            ], 
            "execution_count": 67
        }, 
        {
            "source": "", 
            "cell_type": "code", 
            "metadata": {}, 
            "outputs": [], 
            "execution_count": null
        }
    ], 
    "metadata": {
        "kernelspec": {
            "display_name": "Python 3.5", 
            "name": "python3", 
            "language": "python"
        }, 
        "language_info": {
            "mimetype": "text/x-python", 
            "nbconvert_exporter": "python", 
            "version": "3.5.5", 
            "name": "python", 
            "file_extension": ".py", 
            "pygments_lexer": "ipython3", 
            "codemirror_mode": {
                "version": 3, 
                "name": "ipython"
            }
        }
    }, 
    "nbformat": 4
}
