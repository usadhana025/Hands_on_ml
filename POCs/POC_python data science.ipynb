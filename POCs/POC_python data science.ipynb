{
  "nbformat": 4,
  "nbformat_minor": 0,
  "metadata": {
    "colab": {
      "name": "Untitled1.ipynb",
      "provenance": [],
      "collapsed_sections": [],
      "authorship_tag": "ABX9TyNf/Gd9Eb9G+nVyzn2UCL2c",
      "include_colab_link": true
    },
    "kernelspec": {
      "name": "python3",
      "display_name": "Python 3"
    }
  },
  "cells": [
    {
      "cell_type": "markdown",
      "metadata": {
        "id": "view-in-github",
        "colab_type": "text"
      },
      "source": [
        "<a href=\"https://colab.research.google.com/github/usadhana025/Data-Science/blob/master/POC_python%20data%20science.ipynb\" target=\"_parent\"><img src=\"https://colab.research.google.com/assets/colab-badge.svg\" alt=\"Open In Colab\"/></a>"
      ]
    },
    {
      "cell_type": "markdown",
      "metadata": {
        "id": "LZD9shFkmqhz"
      },
      "source": [
        "POC project(Python Data science)"
      ]
    },
    {
      "cell_type": "code",
      "metadata": {
        "colab": {
          "base_uri": "https://localhost:8080/"
        },
        "id": "oTpR2brxmlBD",
        "outputId": "1061fa26-c753-4d32-eebb-bf7e66f1a915"
      },
      "source": [
        "text=\"sadhana upadhyay\"\r\n",
        "print(text[2:-2])"
      ],
      "execution_count": 2,
      "outputs": [
        {
          "output_type": "stream",
          "text": [
            "dhana upadhy\n"
          ],
          "name": "stdout"
        }
      ]
    },
    {
      "cell_type": "code",
      "metadata": {
        "id": "RPL18N5yySy9"
      },
      "source": [
        "list1=[\"sadhana\",\"upadhyay\",26,\"25/7/1994\"]"
      ],
      "execution_count": 3,
      "outputs": []
    },
    {
      "cell_type": "code",
      "metadata": {
        "colab": {
          "base_uri": "https://localhost:8080/"
        },
        "id": "aC802w7Px2tt",
        "outputId": "57c54df4-c28f-4b40-9ba1-ab34c1e69eea"
      },
      "source": [
        "print(\"my name is: \"+text)"
      ],
      "execution_count": 4,
      "outputs": [
        {
          "output_type": "stream",
          "text": [
            "my name is: sadhana upadhyay\n"
          ],
          "name": "stdout"
        }
      ]
    },
    {
      "cell_type": "code",
      "metadata": {
        "id": "w2P2ePN58WkA"
      },
      "source": [
        ""
      ],
      "execution_count": 4,
      "outputs": []
    },
    {
      "cell_type": "code",
      "metadata": {
        "colab": {
          "base_uri": "https://localhost:8080/"
        },
        "id": "s8yaPnoozquH",
        "outputId": "a29a76cd-8657-43ff-9edb-414fdcc85043"
      },
      "source": [
        "print(list1)"
      ],
      "execution_count": 5,
      "outputs": [
        {
          "output_type": "stream",
          "text": [
            "['sadhana', 'upadhyay', 26, '25/7/1994']\n"
          ],
          "name": "stdout"
        }
      ]
    },
    {
      "cell_type": "code",
      "metadata": {
        "id": "ttWaHlyOztQ4"
      },
      "source": [
        "list1.remove(26)"
      ],
      "execution_count": 6,
      "outputs": []
    },
    {
      "cell_type": "code",
      "metadata": {
        "colab": {
          "base_uri": "https://localhost:8080/"
        },
        "id": "Nxb2f-34z3ct",
        "outputId": "be2b7633-1581-48dd-d55e-ad6a35cf1280"
      },
      "source": [
        "\r\n",
        "print(list1)"
      ],
      "execution_count": 7,
      "outputs": [
        {
          "output_type": "stream",
          "text": [
            "['sadhana', 'upadhyay', '25/7/1994']\n"
          ],
          "name": "stdout"
        }
      ]
    },
    {
      "cell_type": "code",
      "metadata": {
        "colab": {
          "base_uri": "https://localhost:8080/",
          "height": 35
        },
        "id": "BE8NxHuWz5vg",
        "outputId": "57991456-d8d9-44e4-b4aa-0d35aded0703"
      },
      "source": [
        "list1.pop(0)"
      ],
      "execution_count": 8,
      "outputs": [
        {
          "output_type": "execute_result",
          "data": {
            "application/vnd.google.colaboratory.intrinsic+json": {
              "type": "string"
            },
            "text/plain": [
              "'sadhana'"
            ]
          },
          "metadata": {
            "tags": []
          },
          "execution_count": 8
        }
      ]
    },
    {
      "cell_type": "code",
      "metadata": {
        "colab": {
          "base_uri": "https://localhost:8080/"
        },
        "id": "y_Hx8QWwz9kn",
        "outputId": "fb7a3cb1-7f86-47f9-a7ab-244ceaa0d519"
      },
      "source": [
        "print(list1)"
      ],
      "execution_count": 9,
      "outputs": [
        {
          "output_type": "stream",
          "text": [
            "['upadhyay', '25/7/1994']\n"
          ],
          "name": "stdout"
        }
      ]
    },
    {
      "cell_type": "markdown",
      "metadata": {
        "id": "-FpU41SY1wRn"
      },
      "source": [
        "Web scrapping:"
      ]
    },
    {
      "cell_type": "code",
      "metadata": {
        "id": "Gasn0rpg0GwT"
      },
      "source": [
        "import requests\r\n",
        "url=\"https://www.springboard.com/blog/data-science-interview-questions/\"\r\n",
        "response=requests.get(url)\r\n"
      ],
      "execution_count": 10,
      "outputs": []
    },
    {
      "cell_type": "code",
      "metadata": {
        "id": "liLme28s106d"
      },
      "source": [
        "data = response.text\r\n",
        "start=data.find('<div class=\"col-lg-2 social-share-block active>\"')\r\n",
        "end=data.find('style=\"font-weight: 400\"')\r\n",
        "#print(\"The title is:\", data[start+len('class=\"col-lg-2 social-share-block active>'):end-len('style=\"font-weight: 400\"')])"
      ],
      "execution_count": 45,
      "outputs": []
    },
    {
      "cell_type": "code",
      "metadata": {
        "id": "R3_BICkV2mEd"
      },
      "source": [
        "#print(data)"
      ],
      "execution_count": 46,
      "outputs": []
    },
    {
      "cell_type": "code",
      "metadata": {
        "id": "iWeo4UhiS237"
      },
      "source": [
        "import matplotlib.pyplot as plt\r\n",
        "\r\n",
        "class Rectangle(object):\r\n",
        "  def __init__(self, width=2, height=3, color='r'):\r\n",
        "    self.height = height\r\n",
        "    self.width = width\r\n",
        "    self.color = color\r\n",
        "# Method\r\n",
        "  def drawRectangle(self):\r\n",
        "    plt.gca().add_patch(plt.Rectangle((0, 0), self.width, self.height,fc=self.color))\r\n",
        "    plt.axis('scaled')\r\n",
        "    plt.show()"
      ],
      "execution_count": 49,
      "outputs": []
    },
    {
      "cell_type": "code",
      "metadata": {
        "colab": {
          "base_uri": "https://localhost:8080/",
          "height": 265
        },
        "id": "ZTyjaVmATVfx",
        "outputId": "20726053-4352-44fa-c128-2c49a0509913"
      },
      "source": [
        "SkinnyBlueRectangle = Rectangle(2, 10, 'blue')\r\n",
        "SkinnyBlueRectangle.drawRectangle()"
      ],
      "execution_count": 50,
      "outputs": [
        {
          "output_type": "display_data",
          "data": {
            "image/png": "[encoded data removed]",
            "text/plain": [
              "<Figure size 432x288 with 1 Axes>"
            ]
          },
          "metadata": {
            "tags": [],
            "needs_background": "light"
          }
        }
      ]
    },
    {
      "cell_type": "markdown",
      "metadata": {
        "id": "gmhYIZ9NGTO2"
      },
      "source": [
        "**Lambda function** : anonymous functions are declared by using lambda keyword"
      ]
    },
    {
      "cell_type": "code",
      "metadata": {
        "colab": {
          "base_uri": "https://localhost:8080/"
        },
        "id": "C9ygdmr62oBN",
        "outputId": "1e1e7506-e994-4439-b0e8-20f080c9a919"
      },
      "source": [
        "x=lambda r,pi : (pi*(r))\r\n",
        "print(\"area is\", x(3,2))"
      ],
      "execution_count": 21,
      "outputs": [
        {
          "output_type": "stream",
          "text": [
            "area is 6\n"
          ],
          "name": "stdout"
        }
      ]
    },
    {
      "cell_type": "markdown",
      "metadata": {
        "id": "PH0VjpY0Gdwn"
      },
      "source": [
        "**MAP**: map takes two arguments, a function and a sequence. The function is the mapper that transforms\r\n",
        "items. It is automatically applied to each item in the sequence."
      ]
    },
    {
      "cell_type": "code",
      "metadata": {
        "colab": {
          "base_uri": "https://localhost:8080/"
        },
        "id": "Rf_BgEYPHERz",
        "outputId": "f962a1f9-6baa-4841-cfec-5f5d382de8cf"
      },
      "source": [
        "circles=[3,4,7]\r\n",
        "area=map((lambda r : (3.14*(r))),circles)\r\n",
        "print(list(area))"
      ],
      "execution_count": 29,
      "outputs": [
        {
          "output_type": "stream",
          "text": [
            "[9.42, 12.56, 21.98]\n"
          ],
          "name": "stdout"
        }
      ]
    },
    {
      "cell_type": "markdown",
      "metadata": {
        "id": "qup5lH2wLOYD"
      },
      "source": [
        "**Filter** :  going through a list and keeping only those items that\r\n",
        "meet certain criteria. This is called a filter."
      ]
    },
    {
      "cell_type": "code",
      "metadata": {
        "colab": {
          "base_uri": "https://localhost:8080/"
        },
        "id": "-mgSFp1BLRLB",
        "outputId": "523d5741-fd41-472d-9017-29c146cb7205"
      },
      "source": [
        "v = [3, 4, 6, 7, 0, 1]\r\n",
        "x = list(filter(lambda num: num % 2 ==0, v))\r\n",
        "print(x)"
      ],
      "execution_count": 30,
      "outputs": [
        {
          "output_type": "stream",
          "text": [
            "[4, 6, 0]\n"
          ],
          "name": "stdout"
        }
      ]
    },
    {
      "cell_type": "markdown",
      "metadata": {
        "id": "ZOtKEKiuM3tA"
      },
      "source": [
        "**List comprehension** : an alternative way to do map and filter operations, called a list comprehension"
      ]
    },
    {
      "cell_type": "code",
      "metadata": {
        "colab": {
          "base_uri": "https://localhost:8080/"
        },
        "id": "gdeY8UUnLSXu",
        "outputId": "d6fb1846-4363-493c-876b-7fd0592c7987"
      },
      "source": [
        "x=[\"sandy\",\"vrai\",\"goli\",\"golu\"]\r\n",
        "y=[value for value in x if value is 'go' in x]\r\n",
        "print(y)"
      ],
      "execution_count": 35,
      "outputs": [
        {
          "output_type": "stream",
          "text": [
            "[]\n"
          ],
          "name": "stdout"
        }
      ]
    },
    {
      "cell_type": "markdown",
      "metadata": {
        "id": "oIEBf_FQRzY1"
      },
      "source": [
        "**ZIP**: zip function takes multiple lists and turns them into a list of tuples\r\n",
        "\r\n",
        "Using zip and list comprehension,create a new list, L3, that sums the two numbers if the number from L1 is greater than 10 and the\r\n",
        "number from L2 is less than 5."
      ]
    },
    {
      "cell_type": "code",
      "metadata": {
        "colab": {
          "base_uri": "https://localhost:8080/"
        },
        "id": "ApiHzTX5NUaQ",
        "outputId": "66aa522f-70a5-4da2-bf21-1de1d54b7012"
      },
      "source": [
        "L1 = [1, 5, 2, 16, 32, 3, 54, 8, 100]\r\n",
        "L2 = [1, 3, 10, 2, 42, 2, 3, 4,3]\r\n",
        "#L3 = [x1+x2 for x1 in list[zip(L1,L2)] if x1>10 and x2 in list[zip(L1,L2)] if x2<5]\r\n",
        "L3 = [x1 + x2 for (x1, x2) in list(zip(L1, L2)) if x1>10 and x2<5]\r\n",
        "print(L3)"
      ],
      "execution_count": 66,
      "outputs": [
        {
          "output_type": "stream",
          "text": [
            "[18, 57, 103]\n"
          ],
          "name": "stdout"
        }
      ]
    },
    {
      "cell_type": "code",
      "metadata": {
        "id": "7DJPiKUtUHaR"
      },
      "source": [
        ""
      ],
      "execution_count": null,
      "outputs": []
    }
  ]
}
